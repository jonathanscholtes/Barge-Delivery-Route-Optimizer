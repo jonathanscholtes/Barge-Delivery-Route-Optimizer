{
 "cells": [
  {
   "cell_type": "code",
   "execution_count": null,
   "id": "0a22e35e-615e-4408-93c8-ee4bee74a475",
   "metadata": {
    "microsoft": {
     "language": "python",
     "language_group": "synapse_pyspark"
    }
   },
   "outputs": [],
   "source": [
    "import mlflow\n",
    "import pandas as pd\n",
    "import numpy as np\n",
    "from datetime import datetime\n",
    "from pyspark.sql import functions as F, types as T\n",
    "from statsmodels.tsa.holtwinters import ExponentialSmoothing\n",
    "from statsmodels.tsa.arima.model import ARIMA\n",
    "\n"
   ]
  },
  {
   "cell_type": "code",
   "execution_count": null,
   "id": "86a56594-1e31-4162-b843-952593cc70e4",
   "metadata": {
    "microsoft": {
     "language": "python",
     "language_group": "synapse_pyspark"
    }
   },
   "outputs": [],
   "source": [
    "input_path = \"Files/Sales/sales_history.csv\"\n",
    "output_path = \"Files/Forecasts\"\n",
    "holdout_weeks = 8\n",
    "forecast_horizon = 12"
   ]
  },
  {
   "cell_type": "code",
   "execution_count": null,
   "id": "7e14d6e5-8ec2-4827-b38b-3d696d9ee758",
   "metadata": {
    "collapsed": false,
    "microsoft": {
     "language": "python",
     "language_group": "synapse_pyspark"
    }
   },
   "outputs": [],
   "source": [
    "df = (\n",
    "    spark.read.option(\"header\", True).option(\"inferSchema\", True).csv(input_path)\n",
    "    .withColumn(\"date\", F.to_date(\"date\"))\n",
    ")\n",
    "weekly_df = (\n",
    "    df.withColumn(\"week_start\", F.date_trunc(\"week\", F.col(\"date\")))\n",
    "      .groupBy(\"site_id\", \"product_id\", \"week_start\")\n",
    "      .agg(F.sum(\"units_sold\").alias(\"units_sold\"))\n",
    ")\n",
    "display(weekly_df.limit(10))\n"
   ]
  },
  {
   "cell_type": "code",
   "execution_count": null,
   "id": "024ef831-282f-4bc3-aac7-b548e85cabd1",
   "metadata": {
    "microsoft": {
     "language": "python",
     "language_group": "synapse_pyspark"
    }
   },
   "outputs": [],
   "source": [
    "\n",
    "\n",
    "def fit_and_forecast(pdf: pd.DataFrame) -> pd.DataFrame:\n",
    "    import mlflow\n",
    "    from statsmodels.tsa.holtwinters import ExponentialSmoothing\n",
    "    from statsmodels.tsa.arima.model import ARIMA\n",
    "    import pandas as pd\n",
    "    import numpy as np\n",
    "\n",
    "    site = pdf['site_id'].iloc[0]\n",
    "    prod = pdf['product_id'].iloc[0]\n",
    "    ts = pdf.set_index('week_start')['units_sold'].asfreq('7D').fillna(0)\n",
    "\n",
    "    n = len(ts)\n",
    "    ts = ts.asfreq('7D').interpolate(method='linear').fillna(method='bfill')\n",
    "    train_len = max(3, n - holdout_weeks)\n",
    "    train = ts.iloc[:train_len]\n",
    "\n",
    "    forecast_horizon_local = forecast_horizon  # to use inside pandas UDF\n",
    "    model_uri = None\n",
    "\n",
    "    with mlflow.start_run(run_name=f\"{site}_{prod}\", nested=True) as run:\n",
    "        mlflow.log_params({\"site_id\": site, \"product_id\": prod})\n",
    "\n",
    "        # --- Try ETS first ---\n",
    "        seasonal_periods = 52 if len(train) >= 104 else None\n",
    "        seasonal = 'add' if seasonal_periods else None\n",
    "\n",
    "        try:\n",
    "            ets_model = ExponentialSmoothing(\n",
    "                train,\n",
    "                trend='add',\n",
    "                seasonal=seasonal,\n",
    "                seasonal_periods=seasonal_periods\n",
    "            ).fit(optimized=True)\n",
    "\n",
    "            forecast = ets_model.forecast(forecast_horizon_local)\n",
    "            method = \"ETS\" if seasonal_periods else \"ETS_NoSeasonality\"\n",
    "\n",
    "            # Log ETS model to MLflow\n",
    "            model_path = f\"models/{site}_{prod}_ETS\"\n",
    "            mlflow.statsmodels.log_model(ets_model, artifact_path=model_path)\n",
    "            model_uri = f\"runs:/{run.info.run_id}/{model_path}\"\n",
    "\n",
    "        except Exception as e_ets:\n",
    "            print(f\"ETS failed for {site}-{prod}: {e_ets}\")\n",
    "            # --- Fallback to ARIMA ---\n",
    "            try:\n",
    "                if len(train) < 5:\n",
    "                    raise ValueError(\"Not enough data for ARIMA fallback\")\n",
    "\n",
    "                ar_model = ARIMA(train, order=(1,1,1)).fit()\n",
    "                forecast = ar_model.get_forecast(forecast_horizon_local).predicted_mean\n",
    "                method = \"ARIMA\"\n",
    "\n",
    "                # Log ARIMA model to MLflow\n",
    "                model_path = f\"models/{site}_{prod}_ARIMA\"\n",
    "                mlflow.statsmodels.log_model(ar_model, artifact_path=model_path)\n",
    "                model_uri = f\"runs:/{run.info.run_id}/{model_path}\"\n",
    "\n",
    "            except Exception as e_ar:\n",
    "                # If both fail, raise clear error\n",
    "                raise RuntimeError(f\"Both ETS and ARIMA failed for {site}-{prod}: ETS({e_ets}) ARIMA({e_ar})\")\n",
    "\n",
    "        # Post-process forecast\n",
    "        chosen = forecast.clip(lower=0).round().astype(int)\n",
    "\n",
    "        result = pd.DataFrame({\n",
    "            'site_id': [site] * forecast_horizon_local,\n",
    "            'product_id': [prod] * forecast_horizon_local,\n",
    "            'week_start': pd.date_range(train.index[-1] + pd.Timedelta(7, 'd'),\n",
    "                                        periods=forecast_horizon_local, freq='7D'),\n",
    "            'forecast_units': chosen.values,\n",
    "            'method': [method] * forecast_horizon_local,\n",
    "            'mlflow_model_uri': [model_uri] * forecast_horizon_local\n",
    "        })\n",
    "\n",
    "        return result\n"
   ]
  },
  {
   "cell_type": "code",
   "execution_count": null,
   "id": "d0eb1295-ff85-4ff3-ad0d-97867c26edc9",
   "metadata": {
    "collapsed": false,
    "microsoft": {
     "language": "python",
     "language_group": "synapse_pyspark"
    }
   },
   "outputs": [],
   "source": [
    "schema = T.StructType([\n",
    "    T.StructField(\"site_id\", T.StringType()),\n",
    "    T.StructField(\"product_id\", T.StringType()),\n",
    "    T.StructField(\"week_start\", T.TimestampType()),\n",
    "    T.StructField(\"forecast_units\", T.IntegerType()),\n",
    "    T.StructField(\"method\", T.StringType()),\n",
    "    T.StructField(\"mlflow_model_uri\", T.StringType())\n",
    "])\n",
    "\n",
    "result_df = (\n",
    "    weekly_df.groupBy(\"site_id\", \"product_id\")\n",
    "             .applyInPandas(fit_and_forecast, schema=schema)\n",
    ")\n",
    "display(result_df.limit(10))\n"
   ]
  },
  {
   "cell_type": "code",
   "execution_count": null,
   "id": "c0f877c2-ffa0-4d51-92c8-44251359ee45",
   "metadata": {
    "microsoft": {
     "language": "python",
     "language_group": "synapse_pyspark"
    }
   },
   "outputs": [],
   "source": [
    "table_name = \"ForecastWeekly\"  # your downstream table\n",
    "\n",
    "# Overwrite existing table with the new forecast\n",
    "result_df.write.format(\"delta\")\\\n",
    "                  .mode(\"overwrite\")\\\n",
    "                  .saveAsTable(table_name)\n",
    "\n",
    "print(f\" Forecasts written to Fabric data table: {table_name}\")"
   ]
  },
  {
   "cell_type": "code",
   "execution_count": null,
   "id": "1f4ec815-c83c-42d1-b0b1-11a24cfb83eb",
   "metadata": {
    "microsoft": {
     "language": "python",
     "language_group": "synapse_pyspark"
    }
   },
   "outputs": [],
   "source": [
    "timestamp = datetime.now().strftime(\"%Y%m%d\")\n",
    "result_df.write.option(\"header\", True).option(\"delimiter\", \",\").mode(\"overwrite\").csv(f\"{output_path}/forecasts_{timestamp}\")\n",
    "print(\" Forecasts written to Lakehouse\")\n"
   ]
  }
 ],
 "metadata": {
  "dependencies": {
   "lakehouse": {
    "default_lakehouse": "18d618ef-8a09-446a-b1ba-51bfffe27b48",
    "default_lakehouse_name": "optimizer",
    "default_lakehouse_workspace_id": "d0c9b65a-202c-4b31-8fb0-d502e8a681f8",
    "known_lakehouses": [
     {
      "id": "18d618ef-8a09-446a-b1ba-51bfffe27b48"
     }
    ]
   }
  },
  "kernel_info": {
   "name": "synapse_pyspark"
  },
  "kernelspec": {
   "display_name": "synapse_pyspark",
   "name": "synapse_pyspark"
  },
  "language_info": {
   "name": "python"
  },
  "microsoft": {
   "language": "python",
   "language_group": "synapse_pyspark",
   "ms_spell_check": {
    "ms_spell_check_language": "en"
   }
  },
  "nteract": {
   "version": "nteract-front-end@1.0.0"
  },
  "spark_compute": {
   "compute_id": "/trident/default",
   "session_options": {
    "conf": {
     "spark.synapse.nbs.session.timeout": "1200000"
    }
   }
  },
  "synapse_widget": {
   "state": {
    "6b5d4728-374c-47dc-acb6-ed26edfa7520": {
     "persist_state": {
      "view": {
       "chartOptions": {
        "aggregationType": "sum",
        "binsNumber": 10,
        "categoryFieldKeys": [],
        "chartType": "bar",
        "isStacked": false,
        "seriesFieldKeys": [],
        "wordFrequency": "-1"
       },
       "tableOptions": {},
       "type": "details",
       "viewOptionsGroup": [
        {
         "tabItems": [
          {
           "key": "0",
           "name": "Table",
           "options": {},
           "type": "table"
          }
         ]
        }
       ]
      }
     },
     "sync_state": {
      "isSummary": false,
      "language": "scala",
      "table": {
       "rows": [
        {
         "0": "S1",
         "1": "P1",
         "2": "2025-07-21 00:00:00",
         "3": "200",
         "index": 0,
         "key": 0
        },
        {
         "0": "S1",
         "1": "P1",
         "2": "2025-09-15 00:00:00",
         "3": "225",
         "index": 1,
         "key": 1
        },
        {
         "0": "S2",
         "1": "P2",
         "2": "2025-09-01 00:00:00",
         "3": "150",
         "index": 2,
         "key": 2
        },
        {
         "0": "S1",
         "1": "P1",
         "2": "2025-07-07 00:00:00",
         "3": "180",
         "index": 3,
         "key": 3
        },
        {
         "0": "S2",
         "1": "P2",
         "2": "2025-08-25 00:00:00",
         "3": "145",
         "index": 4,
         "key": 4
        },
        {
         "0": "S5",
         "1": "P1",
         "2": "2025-09-08 00:00:00",
         "3": "260",
         "index": 5,
         "key": 5
        },
        {
         "0": "S1",
         "1": "P2",
         "2": "2025-09-08 00:00:00",
         "3": "120",
         "index": 6,
         "key": 6
        },
        {
         "0": "S5",
         "1": "P1",
         "2": "2025-09-29 00:00:00",
         "3": "275",
         "index": 7,
         "key": 7
        },
        {
         "0": "S5",
         "1": "P2",
         "2": "2025-09-08 00:00:00",
         "3": "150",
         "index": 8,
         "key": 8
        },
        {
         "0": "S4",
         "1": "P2",
         "2": "2025-08-04 00:00:00",
         "3": "120",
         "index": 9,
         "key": 9
        }
       ],
       "schema": [
        {
         "key": "0",
         "name": "site_id",
         "type": "string"
        },
        {
         "key": "1",
         "name": "product_id",
         "type": "string"
        },
        {
         "key": "2",
         "name": "week_start",
         "type": "timestamp"
        },
        {
         "key": "3",
         "name": "units_sold",
         "type": "bigint"
        }
       ],
       "truncated": false
      },
      "wranglerEntryContext": {
       "dataframeType": "pyspark"
      }
     },
     "type": "Synapse.DataFrame"
    },
    "84d0f3c5-5305-4093-bdef-5f2d25e17c35": {
     "persist_state": {
      "view": {
       "chartOptions": {
        "aggregationType": "sum",
        "binsNumber": 10,
        "categoryFieldKeys": [],
        "chartType": "bar",
        "isStacked": false,
        "seriesFieldKeys": [],
        "wordFrequency": "-1"
       },
       "tableOptions": {},
       "type": "details",
       "viewOptionsGroup": [
        {
         "tabItems": [
          {
           "key": "0",
           "name": "Table",
           "options": {},
           "type": "table"
          }
         ]
        }
       ]
      }
     },
     "sync_state": {
      "isSummary": false,
      "language": "scala",
      "table": {
       "rows": [
        {
         "0": "S1",
         "1": "P1",
         "2": "2025-08-11 00:00:00",
         "3": "210",
         "4": "ETS_NoSeasonality",
         "5": "runs:/35babffc-e31e-41ce-853a-95caaec9dd43/models/S1_P1_ETS",
         "index": 0,
         "key": 0
        },
        {
         "0": "S1",
         "1": "P1",
         "2": "2025-08-18 00:00:00",
         "3": "216",
         "4": "ETS_NoSeasonality",
         "5": "runs:/35babffc-e31e-41ce-853a-95caaec9dd43/models/S1_P1_ETS",
         "index": 1,
         "key": 1
        },
        {
         "0": "S1",
         "1": "P1",
         "2": "2025-08-25 00:00:00",
         "3": "221",
         "4": "ETS_NoSeasonality",
         "5": "runs:/35babffc-e31e-41ce-853a-95caaec9dd43/models/S1_P1_ETS",
         "index": 2,
         "key": 2
        },
        {
         "0": "S1",
         "1": "P1",
         "2": "2025-09-01 00:00:00",
         "3": "227",
         "4": "ETS_NoSeasonality",
         "5": "runs:/35babffc-e31e-41ce-853a-95caaec9dd43/models/S1_P1_ETS",
         "index": 3,
         "key": 3
        },
        {
         "0": "S1",
         "1": "P1",
         "2": "2025-09-08 00:00:00",
         "3": "232",
         "4": "ETS_NoSeasonality",
         "5": "runs:/35babffc-e31e-41ce-853a-95caaec9dd43/models/S1_P1_ETS",
         "index": 4,
         "key": 4
        },
        {
         "0": "S1",
         "1": "P1",
         "2": "2025-09-15 00:00:00",
         "3": "238",
         "4": "ETS_NoSeasonality",
         "5": "runs:/35babffc-e31e-41ce-853a-95caaec9dd43/models/S1_P1_ETS",
         "index": 5,
         "key": 5
        },
        {
         "0": "S1",
         "1": "P1",
         "2": "2025-09-22 00:00:00",
         "3": "243",
         "4": "ETS_NoSeasonality",
         "5": "runs:/35babffc-e31e-41ce-853a-95caaec9dd43/models/S1_P1_ETS",
         "index": 6,
         "key": 6
        },
        {
         "0": "S1",
         "1": "P1",
         "2": "2025-09-29 00:00:00",
         "3": "249",
         "4": "ETS_NoSeasonality",
         "5": "runs:/35babffc-e31e-41ce-853a-95caaec9dd43/models/S1_P1_ETS",
         "index": 7,
         "key": 7
        },
        {
         "0": "S1",
         "1": "P1",
         "2": "2025-10-06 00:00:00",
         "3": "254",
         "4": "ETS_NoSeasonality",
         "5": "runs:/35babffc-e31e-41ce-853a-95caaec9dd43/models/S1_P1_ETS",
         "index": 8,
         "key": 8
        },
        {
         "0": "S1",
         "1": "P1",
         "2": "2025-10-13 00:00:00",
         "3": "260",
         "4": "ETS_NoSeasonality",
         "5": "runs:/35babffc-e31e-41ce-853a-95caaec9dd43/models/S1_P1_ETS",
         "index": 9,
         "key": 9
        }
       ],
       "schema": [
        {
         "key": "0",
         "name": "site_id",
         "type": "string"
        },
        {
         "key": "1",
         "name": "product_id",
         "type": "string"
        },
        {
         "key": "2",
         "name": "week_start",
         "type": "timestamp"
        },
        {
         "key": "3",
         "name": "forecast_units",
         "type": "int"
        },
        {
         "key": "4",
         "name": "method",
         "type": "string"
        },
        {
         "key": "5",
         "name": "mlflow_model_uri",
         "type": "string"
        }
       ],
       "truncated": false
      },
      "wranglerEntryContext": {
       "dataframeType": "pyspark"
      }
     },
     "type": "Synapse.DataFrame"
    }
   },
   "version": "0.1"
  }
 },
 "nbformat": 4,
 "nbformat_minor": 5
}
